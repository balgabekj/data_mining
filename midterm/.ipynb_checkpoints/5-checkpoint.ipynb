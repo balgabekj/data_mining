{
 "cells": [
  {
   "cell_type": "code",
   "execution_count": 2,
   "id": "initial_id",
   "metadata": {
    "collapsed": true,
    "ExecuteTime": {
     "end_time": "2024-10-19T22:36:39.420302Z",
     "start_time": "2024-10-19T22:36:39.394680Z"
    }
   },
   "outputs": [
    {
     "data": {
      "text/plain": "                      Model  Accuracy  TP (True Positives)  \\\n0       Logistic Regression    0.9649                  106   \n1    Support Vector Machine    0.9649                  106   \n2  Decision Tree Classifier    0.9415                  101   \n\n   TN (True Negatives)  FP (False Positives)  FN (False Negatives)  \n0                   59                     4                     2  \n1                   59                     4                     2  \n2                   60                     3                     7  ",
      "text/html": "<div>\n<style scoped>\n    .dataframe tbody tr th:only-of-type {\n        vertical-align: middle;\n    }\n\n    .dataframe tbody tr th {\n        vertical-align: top;\n    }\n\n    .dataframe thead th {\n        text-align: right;\n    }\n</style>\n<table border=\"1\" class=\"dataframe\">\n  <thead>\n    <tr style=\"text-align: right;\">\n      <th></th>\n      <th>Model</th>\n      <th>Accuracy</th>\n      <th>TP (True Positives)</th>\n      <th>TN (True Negatives)</th>\n      <th>FP (False Positives)</th>\n      <th>FN (False Negatives)</th>\n    </tr>\n  </thead>\n  <tbody>\n    <tr>\n      <th>0</th>\n      <td>Logistic Regression</td>\n      <td>0.9649</td>\n      <td>106</td>\n      <td>59</td>\n      <td>4</td>\n      <td>2</td>\n    </tr>\n    <tr>\n      <th>1</th>\n      <td>Support Vector Machine</td>\n      <td>0.9649</td>\n      <td>106</td>\n      <td>59</td>\n      <td>4</td>\n      <td>2</td>\n    </tr>\n    <tr>\n      <th>2</th>\n      <td>Decision Tree Classifier</td>\n      <td>0.9415</td>\n      <td>101</td>\n      <td>60</td>\n      <td>3</td>\n      <td>7</td>\n    </tr>\n  </tbody>\n</table>\n</div>"
     },
     "execution_count": 2,
     "metadata": {},
     "output_type": "execute_result"
    }
   ],
   "source": [
    "import pandas as pd\n",
    "\n",
    "# Create a table to compare the performance of Logistic Regression, SVM, and Decision Tree\n",
    "data = {\n",
    "    \"Model\": [\"Logistic Regression\", \"Support Vector Machine\", \"Decision Tree Classifier\"],\n",
    "    \"Accuracy\": [0.9649, 0.9649, 0.9415],\n",
    "    \"TP (True Positives)\": [106, 106, 101],\n",
    "    \"TN (True Negatives)\": [59, 59, 60],\n",
    "    \"FP (False Positives)\": [4, 4, 3],\n",
    "    \"FN (False Negatives)\": [2, 2, 7]\n",
    "}\n",
    "\n",
    "# Create the DataFrame\n",
    "performance_table = pd.DataFrame(data)\n",
    "\n",
    "# Display the table\n",
    "performance_table\n"
   ]
  },
  {
   "cell_type": "code",
   "outputs": [
    {
     "data": {
      "text/plain": "                      Model  Accuracy  TP (True Positives)  \\\n0       Logistic Regression    0.9649                  106   \n1    Support Vector Machine    0.9649                  106   \n2  Decision Tree Classifier    0.9415                  101   \n\n   TN (True Negatives)  FP (False Positives)  FN (False Negatives)  Precision  \\\n0                   59                     4                     2   0.981481   \n1                   59                     4                     2   0.981481   \n2                   60                     3                     7   0.935185   \n\n     Recall  \n0  0.981481  \n1  0.981481  \n2  0.935185  ",
      "text/html": "<div>\n<style scoped>\n    .dataframe tbody tr th:only-of-type {\n        vertical-align: middle;\n    }\n\n    .dataframe tbody tr th {\n        vertical-align: top;\n    }\n\n    .dataframe thead th {\n        text-align: right;\n    }\n</style>\n<table border=\"1\" class=\"dataframe\">\n  <thead>\n    <tr style=\"text-align: right;\">\n      <th></th>\n      <th>Model</th>\n      <th>Accuracy</th>\n      <th>TP (True Positives)</th>\n      <th>TN (True Negatives)</th>\n      <th>FP (False Positives)</th>\n      <th>FN (False Negatives)</th>\n      <th>Precision</th>\n      <th>Recall</th>\n    </tr>\n  </thead>\n  <tbody>\n    <tr>\n      <th>0</th>\n      <td>Logistic Regression</td>\n      <td>0.9649</td>\n      <td>106</td>\n      <td>59</td>\n      <td>4</td>\n      <td>2</td>\n      <td>0.981481</td>\n      <td>0.981481</td>\n    </tr>\n    <tr>\n      <th>1</th>\n      <td>Support Vector Machine</td>\n      <td>0.9649</td>\n      <td>106</td>\n      <td>59</td>\n      <td>4</td>\n      <td>2</td>\n      <td>0.981481</td>\n      <td>0.981481</td>\n    </tr>\n    <tr>\n      <th>2</th>\n      <td>Decision Tree Classifier</td>\n      <td>0.9415</td>\n      <td>101</td>\n      <td>60</td>\n      <td>3</td>\n      <td>7</td>\n      <td>0.935185</td>\n      <td>0.935185</td>\n    </tr>\n  </tbody>\n</table>\n</div>"
     },
     "execution_count": 3,
     "metadata": {},
     "output_type": "execute_result"
    }
   ],
   "source": [
    "from sklearn.metrics import precision_score, recall_score\n",
    "\n",
    "precision_lr = precision_score([1]*108 + [0]*63, [1]*106 + [0]*61 + [1]*2 + [0]*2)\n",
    "recall_lr = recall_score([1]*108 + [0]*63, [1]*106 + [0]*61 + [1]*2 + [0]*2)\n",
    "\n",
    "precision_svm = precision_score([1]*108 + [0]*63, [1]*106 + [0]*61 + [1]*2 + [0]*2)\n",
    "recall_svm = recall_score([1]*108 + [0]*63, [1]*106 + [0]*61 + [1]*2 + [0]*2)\n",
    "\n",
    "precision_dt = precision_score([1]*108 + [0]*63, [1]*101 + [0]*63 + [1]*7)\n",
    "recall_dt = recall_score([1]*108 + [0]*63, [1]*101 + [0]*63 + [1]*7)\n",
    "\n",
    "performance_table['Precision'] = [precision_lr, precision_svm, precision_dt]\n",
    "performance_table['Recall'] = [recall_lr, recall_svm, recall_dt]\n",
    "\n",
    "performance_table\n"
   ],
   "metadata": {
    "collapsed": false,
    "ExecuteTime": {
     "end_time": "2024-10-19T22:38:47.502864Z",
     "start_time": "2024-10-19T22:38:47.223815Z"
    }
   },
   "id": "fef829ae910aa4d2",
   "execution_count": 3
  },
  {
   "cell_type": "code",
   "outputs": [
    {
     "data": {
      "text/plain": "                      Model  Accuracy  TP (True Positives)  \\\n0       Logistic Regression    0.9649                  106   \n1    Support Vector Machine    0.9649                  106   \n2  Decision Tree Classifier    0.9415                  101   \n\n   TN (True Negatives)  FP (False Positives)  FN (False Negatives)  Precision  \\\n0                   59                     4                     2   0.981481   \n1                   59                     4                     2   0.981481   \n2                   60                     3                     7   0.935185   \n\n     Recall  \n0  0.981481  \n1  0.981481  \n2  0.935185  ",
      "text/html": "<div>\n<style scoped>\n    .dataframe tbody tr th:only-of-type {\n        vertical-align: middle;\n    }\n\n    .dataframe tbody tr th {\n        vertical-align: top;\n    }\n\n    .dataframe thead th {\n        text-align: right;\n    }\n</style>\n<table border=\"1\" class=\"dataframe\">\n  <thead>\n    <tr style=\"text-align: right;\">\n      <th></th>\n      <th>Model</th>\n      <th>Accuracy</th>\n      <th>TP (True Positives)</th>\n      <th>TN (True Negatives)</th>\n      <th>FP (False Positives)</th>\n      <th>FN (False Negatives)</th>\n      <th>Precision</th>\n      <th>Recall</th>\n    </tr>\n  </thead>\n  <tbody>\n    <tr>\n      <th>0</th>\n      <td>Logistic Regression</td>\n      <td>0.9649</td>\n      <td>106</td>\n      <td>59</td>\n      <td>4</td>\n      <td>2</td>\n      <td>0.981481</td>\n      <td>0.981481</td>\n    </tr>\n    <tr>\n      <th>1</th>\n      <td>Support Vector Machine</td>\n      <td>0.9649</td>\n      <td>106</td>\n      <td>59</td>\n      <td>4</td>\n      <td>2</td>\n      <td>0.981481</td>\n      <td>0.981481</td>\n    </tr>\n    <tr>\n      <th>2</th>\n      <td>Decision Tree Classifier</td>\n      <td>0.9415</td>\n      <td>101</td>\n      <td>60</td>\n      <td>3</td>\n      <td>7</td>\n      <td>0.935185</td>\n      <td>0.935185</td>\n    </tr>\n  </tbody>\n</table>\n</div>"
     },
     "execution_count": 4,
     "metadata": {},
     "output_type": "execute_result"
    }
   ],
   "source": [
    "from sklearn.metrics import precision_score, recall_score\n",
    "\n",
    "# Calculating precision and recall for each model based on confusion matrix values\n",
    "precision_lr = precision_score([1]*108 + [0]*63, [1]*106 + [0]*61 + [1]*2 + [0]*2)\n",
    "recall_lr = recall_score([1]*108 + [0]*63, [1]*106 + [0]*61 + [1]*2 + [0]*2)\n",
    "\n",
    "precision_svm = precision_score([1]*108 + [0]*63, [1]*106 + [0]*61 + [1]*2 + [0]*2)\n",
    "recall_svm = recall_score([1]*108 + [0]*63, [1]*106 + [0]*61 + [1]*2 + [0]*2)\n",
    "\n",
    "precision_dt = precision_score([1]*108 + [0]*63, [1]*101 + [0]*63 + [1]*7)\n",
    "recall_dt = recall_score([1]*108 + [0]*63, [1]*101 + [0]*63 + [1]*7)\n",
    "\n",
    "# Adding precision and recall to the table\n",
    "performance_table['Precision'] = [precision_lr, precision_svm, precision_dt]\n",
    "performance_table['Recall'] = [recall_lr, recall_svm, recall_dt]\n",
    "\n",
    "performance_table\n"
   ],
   "metadata": {
    "collapsed": false,
    "ExecuteTime": {
     "end_time": "2024-10-19T22:39:04.438727Z",
     "start_time": "2024-10-19T22:39:04.383976Z"
    }
   },
   "id": "bec633a303d47a01",
   "execution_count": 4
  },
  {
   "cell_type": "code",
   "outputs": [],
   "source": [],
   "metadata": {
    "collapsed": false
   },
   "id": "c5144c23e2945528"
  }
 ],
 "metadata": {
  "kernelspec": {
   "display_name": "Python 3",
   "language": "python",
   "name": "python3"
  },
  "language_info": {
   "codemirror_mode": {
    "name": "ipython",
    "version": 2
   },
   "file_extension": ".py",
   "mimetype": "text/x-python",
   "name": "python",
   "nbconvert_exporter": "python",
   "pygments_lexer": "ipython2",
   "version": "2.7.6"
  }
 },
 "nbformat": 4,
 "nbformat_minor": 5
}
