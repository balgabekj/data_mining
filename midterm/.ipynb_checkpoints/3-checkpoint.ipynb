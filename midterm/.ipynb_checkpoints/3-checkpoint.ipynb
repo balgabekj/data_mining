{
 "cells": [
  {
   "cell_type": "code",
   "execution_count": 2,
   "id": "initial_id",
   "metadata": {
    "collapsed": true,
    "ExecuteTime": {
     "end_time": "2024-10-19T17:24:54.443318Z",
     "start_time": "2024-10-19T17:24:53.964132Z"
    }
   },
   "outputs": [
    {
     "name": "stdout",
     "output_type": "stream",
     "text": [
      "Selected features: ['petal length (cm)', 'petal width (cm)']\n"
     ]
    }
   ],
   "source": [
    "from sklearn.datasets import load_iris\n",
    "from sklearn.feature_selection import SelectKBest, chi2\n",
    "from sklearn.feature_selection import f_classif\n",
    "\n",
    "iris = load_iris()\n",
    "X, y = iris.data, iris.target\n",
    "\n",
    "selector = SelectKBest(chi2, k=2)\n",
    "X_new = selector.fit_transform(X, y)\n",
    "\n",
    "selected_features = selector.get_support(indices=True)\n",
    "feature_names = [iris.feature_names[i] for i in selected_features]\n",
    "\n",
    "print(\"Selected features:\", feature_names)\n"
   ]
  },
  {
   "cell_type": "code",
   "outputs": [
    {
     "name": "stdout",
     "output_type": "stream",
     "text": [
      "Feature ranking:\n",
      "1. Feature: petal length (cm) (Importance: 0.4361)\n",
      "2. Feature: petal width (cm) (Importance: 0.4361)\n",
      "3. Feature: sepal length (cm) (Importance: 0.1061)\n",
      "4. Feature: sepal width (cm) (Importance: 0.0217)\n",
      "\n",
      "Selected top 2 features: ['petal length (cm)', 'petal width (cm)']\n",
      "\n",
      "DataFrame with selected features:\n",
      "   petal length (cm)  petal width (cm)\n",
      "0                1.4               0.2\n",
      "1                1.4               0.2\n",
      "2                1.3               0.2\n",
      "3                1.5               0.2\n",
      "4                1.4               0.2\n"
     ]
    }
   ],
   "source": [
    "# Import necessary libraries\n",
    "from sklearn.datasets import load_iris\n",
    "from sklearn.ensemble import RandomForestClassifier\n",
    "import pandas as pd\n",
    "import numpy as np\n",
    "\n",
    "# Load the Iris dataset\n",
    "iris = load_iris()\n",
    "X, y = iris.data, iris.target\n",
    "\n",
    "# Create a DataFrame for easier feature handling\n",
    "feature_names = iris.feature_names\n",
    "df = pd.DataFrame(X, columns=feature_names)\n",
    "\n",
    "# Initialize RandomForestClassifier\n",
    "rf = RandomForestClassifier(n_estimators=100, random_state=42)\n",
    "\n",
    "# Fit the model\n",
    "rf.fit(X, y)\n",
    "\n",
    "# Get feature importances from the Random Forest model\n",
    "importances = rf.feature_importances_\n",
    "\n",
    "# Sort feature importances in descending order and select the top N features\n",
    "indices = np.argsort(importances)[::-1]  # Sort the indices of the features by importance\n",
    "top_n = 2  # Select the top 2 features (can be adjusted)\n",
    "\n",
    "# Print the feature ranking and the top features\n",
    "print(\"Feature ranking:\")\n",
    "\n",
    "for i in range(X.shape[1]):\n",
    "    print(f\"{i+1}. Feature: {feature_names[indices[i]]} (Importance: {importances[indices[i]]:.4f})\")\n",
    "\n",
    "# Select the top N features\n",
    "selected_features = [feature_names[indices[i]] for i in range(top_n)]\n",
    "\n",
    "print(f\"\\nSelected top {top_n} features:\", selected_features)\n",
    "\n",
    "# Optionally, you can create a new DataFrame with only the selected top N features\n",
    "X_selected = df[selected_features]\n",
    "print(\"\\nDataFrame with selected features:\")\n",
    "print(X_selected.head())\n"
   ],
   "metadata": {
    "collapsed": false,
    "ExecuteTime": {
     "end_time": "2024-10-19T18:15:18.624163Z",
     "start_time": "2024-10-19T18:15:17.443080Z"
    }
   },
   "id": "a2c6e53ae456975a",
   "execution_count": 3
  },
  {
   "cell_type": "code",
   "outputs": [],
   "source": [
    "    "
   ],
   "metadata": {
    "collapsed": false
   },
   "id": "951c007df7b0ee37"
  }
 ],
 "metadata": {
  "kernelspec": {
   "display_name": "Python 3",
   "language": "python",
   "name": "python3"
  },
  "language_info": {
   "codemirror_mode": {
    "name": "ipython",
    "version": 2
   },
   "file_extension": ".py",
   "mimetype": "text/x-python",
   "name": "python",
   "nbconvert_exporter": "python",
   "pygments_lexer": "ipython2",
   "version": "2.7.6"
  }
 },
 "nbformat": 4,
 "nbformat_minor": 5
}
