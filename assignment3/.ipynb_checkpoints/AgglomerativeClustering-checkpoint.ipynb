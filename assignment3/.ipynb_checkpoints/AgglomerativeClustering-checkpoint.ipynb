{
 "cells": [
  {
   "cell_type": "code",
   "execution_count": null,
   "metadata": {
    "vscode": {
     "languageId": "plaintext"
    }
   },
   "outputs": [],
   "source": [
    "# Import necessary libraries\n",
    "import matplotlib.pyplot as plt\n",
    "from sklearn.datasets import load_iris\n",
    "from sklearn.cluster import AgglomerativeClustering\n",
    "from scipy.cluster.hierarchy import dendrogram, linkage\n",
    "\n",
    "# Load the Iris dataset\n",
    "iris = load_iris()\n",
    "X = iris.data  # Using all features of the Iris dataset\n",
    "\n",
    "# Step 1: Apply Agglomerative Clustering\n",
    "agg_cluster = AgglomerativeClustering(n_clusters=3)  # The Iris dataset has 3 classes\n",
    "agg_labels = agg_cluster.fit_predict(X)\n",
    "\n",
    "# Step 2: Visualize the results with a Dendrogram\n",
    "# Perform linkage for the dendrogram\n",
    "linked = linkage(X, method='ward')  # Ward's method minimizes the variance within clusters\n",
    "\n",
    "plt.figure(figsize=(10, 7))\n",
    "dendrogram(linked,\n",
    "           orientation='top',\n",
    "           distance_sort='ascending',\n",
    "           show_leaf_counts=False)\n",
    "plt.title(\"Hierarchical Clustering Dendrogram\")\n",
    "plt.xlabel(\"Sample Index\")\n",
    "plt.ylabel(\"Euclidean Distance\")\n",
    "plt.show()\n"
   ]
  },
  {
   "cell_type": "code",
   "execution_count": null,
   "metadata": {
    "vscode": {
     "languageId": "plaintext"
    }
   },
   "outputs": [],
   "source": []
  }
 ],
 "metadata": {
  "language_info": {
   "name": "python"
  }
 },
 "nbformat": 4,
 "nbformat_minor": 2
}
